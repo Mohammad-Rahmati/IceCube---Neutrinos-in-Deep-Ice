{
 "cells": [
  {
   "cell_type": "code",
   "execution_count": null,
   "metadata": {},
   "outputs": [],
   "source": [
    "import pandas as pd\n",
    "import matplotlib.pyplot as plt\n",
    "import numpy as np\n",
    "import sqlite3\n",
    "import sqlalchemy\n",
    "import gc\n",
    "import warnings\n",
    "warnings.filterwarnings('ignore')\n",
    "\n",
    "def prepare_dataframe(df, angle_post_fix = '_pred', vec_post_fix = '') -> pd.DataFrame:\n",
    "    r = np.sqrt(df['direction_x'+ vec_post_fix]**2 + df['direction_y'+ vec_post_fix]**2 + df['direction_z' + vec_post_fix]**2)\n",
    "    df['zenith' + angle_post_fix] = np.arccos(df['direction_z'+ vec_post_fix]/r)\n",
    "    df['azimuth'+ angle_post_fix] = np.arctan2(df['direction_y'+ vec_post_fix],df['direction_x' + vec_post_fix])\n",
    "    df['azimuth'+ angle_post_fix][df['azimuth'  + angle_post_fix]<0] = df['azimuth'  + angle_post_fix][df['azimuth'  +  angle_post_fix]<0] + 2*np.pi \n",
    "\n",
    "    return df[['kappa', 'azimuth_pred', 'zenith_pred']]\n",
    "\n",
    "import numpy as np\n",
    "\n",
    "\n",
    "def angular_dist_score(az_true, zen_true, az_pred, zen_pred):\n",
    "    \n",
    "    sa1 = np.sin(az_true)\n",
    "    ca1 = np.cos(az_true)\n",
    "    sz1 = np.sin(zen_true)\n",
    "    cz1 = np.cos(zen_true)\n",
    "    \n",
    "    sa2 = np.sin(az_pred)\n",
    "    ca2 = np.cos(az_pred)\n",
    "    sz2 = np.sin(zen_pred)\n",
    "    cz2 = np.cos(zen_pred)\n",
    "    \n",
    "    scalar_prod = sz1*sz2*(ca1*ca2 + sa1*sa2) + (cz1*cz2)\n",
    "    scalar_prod =  np.clip(scalar_prod, -1, 1)\n",
    "\n",
    "    return np.abs(np.arccos(scalar_prod))"
   ]
  },
  {
   "cell_type": "code",
   "execution_count": null,
   "metadata": {},
   "outputs": [],
   "source": [
    "b_id = 5"
   ]
  },
  {
   "cell_type": "code",
   "execution_count": null,
   "metadata": {},
   "outputs": [],
   "source": [
    "database_path = f'data/B5/extra_big_batch_5.db'\n",
    "engine = sqlalchemy.create_engine(\"sqlite:///\" + database_path)\n",
    "\n",
    "with sqlite3.connect(database_path) as con:\n",
    "    query = 'SELECT event_id, azimuth, zenith from meta_table'\n",
    "    df_database = pd.read_sql(query,con).set_index('event_id')\n",
    "\n",
    "df_database.shape"
   ]
  },
  {
   "cell_type": "code",
   "execution_count": null,
   "metadata": {},
   "outputs": [],
   "source": [
    "df_all = pd.DataFrame()\n",
    "m_list = [0,1,2,3]\n",
    "# m_list.remove(b_id)\n",
    "for m_id in m_list:\n",
    "    df_result = pd.read_pickle(f'inference/pred_M{m_id}_B{b_id}.pkl')\n",
    "    df_result.rename(columns={'direction_kappa': 'kappa'}, inplace=True)\n",
    "    df_predict = prepare_dataframe(df_result)\n",
    "    df_final = df_predict.join(df_database, how = 'inner')\n",
    "    df_final['error'] = angular_dist_score(df_final['azimuth'], df_final['zenith'], df_final['azimuth_pred'], df_final['zenith_pred'])\n",
    "    df_final.rename({'kappa': f'kappa_m{m_id}', 'error': f'error_m{m_id}'}, axis=1, inplace=True)\n",
    "    df_all = df_all.join(df_final[[f'kappa_m{m_id}', f'error_m{m_id}']], how='outer')\n",
    "del df_final, df_predict, df_result\n",
    "gc.collect()"
   ]
  },
  {
   "cell_type": "code",
   "execution_count": null,
   "metadata": {},
   "outputs": [],
   "source": [
    "df_all.to_pickle(f'process_events/pred_B{b_id}.pkl')"
   ]
  },
  {
   "cell_type": "code",
   "execution_count": null,
   "metadata": {},
   "outputs": [],
   "source": [
    "df_all"
   ]
  },
  {
   "cell_type": "code",
   "execution_count": null,
   "metadata": {},
   "outputs": [],
   "source": []
  }
 ],
 "metadata": {
  "kernelspec": {
   "display_name": "graphnet",
   "language": "python",
   "name": "python3"
  },
  "language_info": {
   "codemirror_mode": {
    "name": "ipython",
    "version": 3
   },
   "file_extension": ".py",
   "mimetype": "text/x-python",
   "name": "python",
   "nbconvert_exporter": "python",
   "pygments_lexer": "ipython3",
   "version": "3.8.16"
  },
  "orig_nbformat": 4
 },
 "nbformat": 4,
 "nbformat_minor": 2
}
