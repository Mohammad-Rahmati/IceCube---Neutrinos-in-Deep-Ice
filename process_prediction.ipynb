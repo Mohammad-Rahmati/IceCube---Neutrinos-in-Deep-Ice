{
 "cells": [
  {
   "cell_type": "code",
   "execution_count": 1,
   "metadata": {},
   "outputs": [],
   "source": [
    "import pandas as pd\n",
    "import matplotlib.pyplot as plt\n",
    "import numpy as np\n"
   ]
  },
  {
   "cell_type": "code",
   "execution_count": 8,
   "metadata": {},
   "outputs": [
    {
     "data": {
      "text/plain": [
       "(32953924, 4)"
      ]
     },
     "execution_count": 8,
     "metadata": {},
     "output_type": "execute_result"
    }
   ],
   "source": [
    "df = pd.read_pickle('inference/pred_M1_B2.pkl')\n",
    "df.shape"
   ]
  },
  {
   "cell_type": "code",
   "execution_count": 7,
   "metadata": {},
   "outputs": [
    {
     "data": {
      "text/html": [
       "<div>\n",
       "<style scoped>\n",
       "    .dataframe tbody tr th:only-of-type {\n",
       "        vertical-align: middle;\n",
       "    }\n",
       "\n",
       "    .dataframe tbody tr th {\n",
       "        vertical-align: top;\n",
       "    }\n",
       "\n",
       "    .dataframe thead th {\n",
       "        text-align: right;\n",
       "    }\n",
       "</style>\n",
       "<table border=\"1\" class=\"dataframe\">\n",
       "  <thead>\n",
       "    <tr style=\"text-align: right;\">\n",
       "      <th></th>\n",
       "      <th>direction_x</th>\n",
       "      <th>direction_y</th>\n",
       "      <th>direction_z</th>\n",
       "      <th>direction_kappa</th>\n",
       "    </tr>\n",
       "  </thead>\n",
       "  <tbody>\n",
       "    <tr>\n",
       "      <th>count</th>\n",
       "      <td>3.295392e+07</td>\n",
       "      <td>3.295392e+07</td>\n",
       "      <td>3.295392e+07</td>\n",
       "      <td>3.295392e+07</td>\n",
       "    </tr>\n",
       "    <tr>\n",
       "      <th>mean</th>\n",
       "      <td>8.382690e-03</td>\n",
       "      <td>-2.198419e-02</td>\n",
       "      <td>2.888406e-01</td>\n",
       "      <td>1.877204e+01</td>\n",
       "    </tr>\n",
       "    <tr>\n",
       "      <th>std</th>\n",
       "      <td>5.085194e-01</td>\n",
       "      <td>5.110986e-01</td>\n",
       "      <td>6.294466e-01</td>\n",
       "      <td>5.035062e+01</td>\n",
       "    </tr>\n",
       "    <tr>\n",
       "      <th>min</th>\n",
       "      <td>-1.000000e+00</td>\n",
       "      <td>-9.999999e-01</td>\n",
       "      <td>-1.000000e+00</td>\n",
       "      <td>7.527557e-04</td>\n",
       "    </tr>\n",
       "    <tr>\n",
       "      <th>25%</th>\n",
       "      <td>-3.664360e-01</td>\n",
       "      <td>-4.046652e-01</td>\n",
       "      <td>-1.683968e-01</td>\n",
       "      <td>2.518829e-01</td>\n",
       "    </tr>\n",
       "    <tr>\n",
       "      <th>50%</th>\n",
       "      <td>1.007504e-02</td>\n",
       "      <td>-2.417513e-02</td>\n",
       "      <td>4.639624e-01</td>\n",
       "      <td>6.876704e-01</td>\n",
       "    </tr>\n",
       "    <tr>\n",
       "      <th>75%</th>\n",
       "      <td>3.869625e-01</td>\n",
       "      <td>3.495848e-01</td>\n",
       "      <td>8.473178e-01</td>\n",
       "      <td>4.398259e+00</td>\n",
       "    </tr>\n",
       "    <tr>\n",
       "      <th>max</th>\n",
       "      <td>9.999999e-01</td>\n",
       "      <td>9.999998e-01</td>\n",
       "      <td>1.000000e+00</td>\n",
       "      <td>7.941101e+03</td>\n",
       "    </tr>\n",
       "  </tbody>\n",
       "</table>\n",
       "</div>"
      ],
      "text/plain": [
       "        direction_x   direction_y   direction_z  direction_kappa\n",
       "count  3.295392e+07  3.295392e+07  3.295392e+07     3.295392e+07\n",
       "mean   8.382690e-03 -2.198419e-02  2.888406e-01     1.877204e+01\n",
       "std    5.085194e-01  5.110986e-01  6.294466e-01     5.035062e+01\n",
       "min   -1.000000e+00 -9.999999e-01 -1.000000e+00     7.527557e-04\n",
       "25%   -3.664360e-01 -4.046652e-01 -1.683968e-01     2.518829e-01\n",
       "50%    1.007504e-02 -2.417513e-02  4.639624e-01     6.876704e-01\n",
       "75%    3.869625e-01  3.495848e-01  8.473178e-01     4.398259e+00\n",
       "max    9.999999e-01  9.999998e-01  1.000000e+00     7.941101e+03"
      ]
     },
     "execution_count": 7,
     "metadata": {},
     "output_type": "execute_result"
    }
   ],
   "source": [
    "df.describe()"
   ]
  },
  {
   "cell_type": "code",
   "execution_count": 9,
   "metadata": {},
   "outputs": [
    {
     "data": {
      "text/html": [
       "<div>\n",
       "<style scoped>\n",
       "    .dataframe tbody tr th:only-of-type {\n",
       "        vertical-align: middle;\n",
       "    }\n",
       "\n",
       "    .dataframe tbody tr th {\n",
       "        vertical-align: top;\n",
       "    }\n",
       "\n",
       "    .dataframe thead th {\n",
       "        text-align: right;\n",
       "    }\n",
       "</style>\n",
       "<table border=\"1\" class=\"dataframe\">\n",
       "  <thead>\n",
       "    <tr style=\"text-align: right;\">\n",
       "      <th></th>\n",
       "      <th>direction_x</th>\n",
       "      <th>direction_y</th>\n",
       "      <th>direction_z</th>\n",
       "      <th>direction_kappa</th>\n",
       "    </tr>\n",
       "  </thead>\n",
       "  <tbody>\n",
       "    <tr>\n",
       "      <th>count</th>\n",
       "      <td>3.295392e+07</td>\n",
       "      <td>3.295392e+07</td>\n",
       "      <td>3.295392e+07</td>\n",
       "      <td>3.295392e+07</td>\n",
       "    </tr>\n",
       "    <tr>\n",
       "      <th>mean</th>\n",
       "      <td>2.032444e-02</td>\n",
       "      <td>-3.302985e-03</td>\n",
       "      <td>3.227282e-01</td>\n",
       "      <td>1.827732e+01</td>\n",
       "    </tr>\n",
       "    <tr>\n",
       "      <th>std</th>\n",
       "      <td>5.087141e-01</td>\n",
       "      <td>5.110665e-01</td>\n",
       "      <td>6.127339e-01</td>\n",
       "      <td>4.055118e+01</td>\n",
       "    </tr>\n",
       "    <tr>\n",
       "      <th>min</th>\n",
       "      <td>-9.999996e-01</td>\n",
       "      <td>-9.999994e-01</td>\n",
       "      <td>-1.000000e+00</td>\n",
       "      <td>4.689540e-04</td>\n",
       "    </tr>\n",
       "    <tr>\n",
       "      <th>25%</th>\n",
       "      <td>-3.565305e-01</td>\n",
       "      <td>-3.850754e-01</td>\n",
       "      <td>-9.864769e-02</td>\n",
       "      <td>2.512404e-01</td>\n",
       "    </tr>\n",
       "    <tr>\n",
       "      <th>50%</th>\n",
       "      <td>2.391068e-02</td>\n",
       "      <td>-4.918493e-03</td>\n",
       "      <td>5.060209e-01</td>\n",
       "      <td>6.700859e-01</td>\n",
       "    </tr>\n",
       "    <tr>\n",
       "      <th>75%</th>\n",
       "      <td>4.043942e-01</td>\n",
       "      <td>3.769416e-01</td>\n",
       "      <td>8.556113e-01</td>\n",
       "      <td>4.474530e+00</td>\n",
       "    </tr>\n",
       "    <tr>\n",
       "      <th>max</th>\n",
       "      <td>9.999999e-01</td>\n",
       "      <td>9.999999e-01</td>\n",
       "      <td>1.000000e+00</td>\n",
       "      <td>2.589464e+03</td>\n",
       "    </tr>\n",
       "  </tbody>\n",
       "</table>\n",
       "</div>"
      ],
      "text/plain": [
       "        direction_x   direction_y   direction_z  direction_kappa\n",
       "count  3.295392e+07  3.295392e+07  3.295392e+07     3.295392e+07\n",
       "mean   2.032444e-02 -3.302985e-03  3.227282e-01     1.827732e+01\n",
       "std    5.087141e-01  5.110665e-01  6.127339e-01     4.055118e+01\n",
       "min   -9.999996e-01 -9.999994e-01 -1.000000e+00     4.689540e-04\n",
       "25%   -3.565305e-01 -3.850754e-01 -9.864769e-02     2.512404e-01\n",
       "50%    2.391068e-02 -4.918493e-03  5.060209e-01     6.700859e-01\n",
       "75%    4.043942e-01  3.769416e-01  8.556113e-01     4.474530e+00\n",
       "max    9.999999e-01  9.999999e-01  1.000000e+00     2.589464e+03"
      ]
     },
     "execution_count": 9,
     "metadata": {},
     "output_type": "execute_result"
    }
   ],
   "source": [
    "df.describe()\n"
   ]
  },
  {
   "cell_type": "code",
   "execution_count": 5,
   "metadata": {},
   "outputs": [
    {
     "data": {
      "image/png": "[encoded data removed]",
      "text/plain": [
       "<Figure size 640x480 with 1 Axes>"
      ]
     },
     "metadata": {},
     "output_type": "display_data"
    }
   ],
   "source": [
    "# plot the distribution of the direction_kappa using matplotlib\n",
    "plt.hist(np.log(df['direction_kappa']), bins=100)\n",
    "plt.show()"
   ]
  },
  {
   "cell_type": "code",
   "execution_count": 24,
   "metadata": {},
   "outputs": [
    {
     "data": {
      "text/plain": [
       "20.085594177246094"
      ]
     },
     "execution_count": 24,
     "metadata": {},
     "output_type": "execute_result"
    }
   ],
   "source": [
    "df[np.log(df.direction_kappa) > 3].direction_kappa.min()"
   ]
  },
  {
   "cell_type": "code",
   "execution_count": null,
   "metadata": {},
   "outputs": [],
   "source": []
  }
 ],
 "metadata": {
  "kernelspec": {
   "display_name": "graphnet",
   "language": "python",
   "name": "python3"
  },
  "language_info": {
   "codemirror_mode": {
    "name": "ipython",
    "version": 3
   },
   "file_extension": ".py",
   "mimetype": "text/x-python",
   "name": "python",
   "nbconvert_exporter": "python",
   "pygments_lexer": "ipython3",
   "version": "3.8.16"
  },
  "orig_nbformat": 4
 },
 "nbformat": 4,
 "nbformat_minor": 2
}
