{
 "cells": [
  {
   "cell_type": "code",
   "execution_count": 2,
   "metadata": {},
   "outputs": [],
   "source": [
    "import pandas as pd\n",
    "import numpy as np\n",
    "import seaborn as sns\n",
    "import matplotlib.pyplot as plt\n",
    "import gc\n",
    "import random"
   ]
  },
  {
   "cell_type": "code",
   "execution_count": 3,
   "metadata": {},
   "outputs": [
    {
     "data": {
      "text/plain": [
       "(134547911, 8)"
      ]
     },
     "execution_count": 3,
     "metadata": {},
     "output_type": "execute_result"
    }
   ],
   "source": [
    "df_0 = pd.read_pickle('process_events/pred_B0.pkl')\n",
    "df_0.index = df_0.index.astype(int)\n",
    "\n",
    "df_1 = pd.read_pickle('process_events/pred_B1.pkl')\n",
    "df_1.index = df_1.index.astype(int)\n",
    "\n",
    "df_2 = pd.read_pickle('process_events/pred_B2.pkl')\n",
    "df_2.index = df_2.index.astype(int)\n",
    "\n",
    "df_3 = pd.read_pickle('process_events/pred_B3.pkl')\n",
    "df_3.index = df_3.index.astype(int)\n",
    "\n",
    "df_5 = pd.read_pickle('process_events/pred_B5.pkl')\n",
    "df_5.index = df_5.index.astype(int)\n",
    "\n",
    "df_all = pd.concat([df_0, df_1, df_2, df_3, df_5], axis=0)\n",
    "df_all.shape"
   ]
  },
  {
   "cell_type": "code",
   "execution_count": 4,
   "metadata": {},
   "outputs": [
    {
     "data": {
      "text/plain": [
       "0"
      ]
     },
     "execution_count": 4,
     "metadata": {},
     "output_type": "execute_result"
    }
   ],
   "source": [
    "del df_0, df_1, df_2, df_3, df_5\n",
    "gc.collect()"
   ]
  },
  {
   "cell_type": "code",
   "execution_count": 17,
   "metadata": {},
   "outputs": [],
   "source": [
    "all_events = df_all.index.to_list()"
   ]
  },
  {
   "cell_type": "code",
   "execution_count": 10,
   "metadata": {},
   "outputs": [],
   "source": [
    "df_all['min_error'] = df_all[['error_m0', 'error_m1', 'error_m2', 'error_m3']].min(axis=1)\n",
    "signal_events_list = df_all[df_all['min_error'] < 0.5].index.to_list()"
   ]
  },
  {
   "cell_type": "code",
   "execution_count": 18,
   "metadata": {},
   "outputs": [
    {
     "data": {
      "text/plain": [
       "(58650650, 56830897, 131953924)"
      ]
     },
     "execution_count": 18,
     "metadata": {},
     "output_type": "execute_result"
    }
   ],
   "source": [
    "len(set(signal_events_list)), len(set(all_events))"
   ]
  },
  {
   "cell_type": "code",
   "execution_count": 20,
   "metadata": {},
   "outputs": [
    {
     "data": {
      "text/plain": [
       "(56830897, 75123027)"
      ]
     },
     "execution_count": 20,
     "metadata": {},
     "output_type": "execute_result"
    }
   ],
   "source": [
    "signal_events_unique = set(signal_events_list)\n",
    "all_events_unique = set(all_events)\n",
    "noise_events_unique = all_events_unique - signal_events_unique\n",
    "\n",
    "len(signal_events_unique), len(noise_events_unique)"
   ]
  },
  {
   "cell_type": "code",
   "execution_count": 22,
   "metadata": {},
   "outputs": [
    {
     "data": {
      "text/plain": [
       "(28415448, 28415449, 37561513, 37561514)"
      ]
     },
     "execution_count": 22,
     "metadata": {},
     "output_type": "execute_result"
    }
   ],
   "source": [
    "signal_events_unique = list(signal_events_unique)\n",
    "random.shuffle(signal_events_unique)\n",
    "p0 = signal_events_unique[:len(signal_events_unique)//2]\n",
    "p1 = signal_events_unique[len(signal_events_unique)//2:]\n",
    "\n",
    "noise_events_unique = list(noise_events_unique)\n",
    "random.shuffle(noise_events_unique)\n",
    "p2 = noise_events_unique[:len(noise_events_unique)//2]\n",
    "p3 = noise_events_unique[len(noise_events_unique)//2:]\n",
    "\n",
    "len(p0), len(p1), len(p2), len(p3)"
   ]
  },
  {
   "cell_type": "code",
   "execution_count": 23,
   "metadata": {},
   "outputs": [
    {
     "data": {
      "text/plain": [
       "131953924"
      ]
     },
     "execution_count": 23,
     "metadata": {},
     "output_type": "execute_result"
    }
   ],
   "source": [
    "len(p0)+ len(p1)+ len(p2)+ len(p3)"
   ]
  },
  {
   "cell_type": "code",
   "execution_count": 24,
   "metadata": {},
   "outputs": [],
   "source": [
    "focus_dict = {\n",
    "    'f0': p0,\n",
    "    'f1': p1,\n",
    "    'f2': p2,\n",
    "    'f3': p3\n",
    "}\n",
    "\n",
    "import pickle\n",
    "with open('focus_dict.pkl', 'wb') as f:\n",
    "    pickle.dump(focus_dict, f)"
   ]
  },
  {
   "cell_type": "code",
   "execution_count": 10,
   "metadata": {},
   "outputs": [
    {
     "data": {
      "image/png": "[encoded data removed]",
      "text/plain": [
       "<Figure size 1000x500 with 1 Axes>"
      ]
     },
     "metadata": {},
     "output_type": "display_data"
    }
   ],
   "source": [
    "plt.figure(figsize=(10, 5))\n",
    "\n",
    "plt.hist(df_all['min_error'], bins=100, color='black', alpha=0.5)\n",
    "\n",
    "plt.show()"
   ]
  },
  {
   "cell_type": "code",
   "execution_count": 11,
   "metadata": {},
   "outputs": [
    {
     "data": {
      "image/png": "[encoded data removed]",
      "text/plain": [
       "<Figure size 1000x500 with 1 Axes>"
      ]
     },
     "metadata": {},
     "output_type": "display_data"
    }
   ],
   "source": [
    "plt.figure(figsize=(10, 5))\n",
    "df_all_study = df_all[df_all['min_error'] < 0.5]\n",
    "plt.hist(np.log(df_all['kappa_m0']), bins=100, color='blue', alpha=0.5)\n",
    "plt.hist(np.log(df_all['kappa_m1']), bins=100, color='red', alpha=0.5)\n",
    "plt.hist(np.log(df_all['kappa_m2']), bins=100, color='green', alpha=0.5)\n",
    "plt.hist(np.log(df_all['kappa_m3']), bins=100, color='orange', alpha=0.5)\n",
    "plt.hist(np.log(df_all_study['kappa_m0']), bins=100, color='black', alpha=0.5)\n",
    "plt.hist(np.log(df_all_study['kappa_m1']), bins=100, color='black', alpha=0.5)\n",
    "plt.hist(np.log(df_all_study['kappa_m2']), bins=100, color='black', alpha=0.5)\n",
    "plt.hist(np.log(df_all_study['kappa_m3']), bins=100, color='black', alpha=0.5)\n",
    "\n",
    "plt.show()"
   ]
  },
  {
   "cell_type": "code",
   "execution_count": null,
   "metadata": {},
   "outputs": [],
   "source": []
  }
 ],
 "metadata": {
  "kernelspec": {
   "display_name": "graphnet",
   "language": "python",
   "name": "python3"
  },
  "language_info": {
   "codemirror_mode": {
    "name": "ipython",
    "version": 3
   },
   "file_extension": ".py",
   "mimetype": "text/x-python",
   "name": "python",
   "nbconvert_exporter": "python",
   "pygments_lexer": "ipython3",
   "version": "3.8.16"
  },
  "orig_nbformat": 4
 },
 "nbformat": 4,
 "nbformat_minor": 2
}
