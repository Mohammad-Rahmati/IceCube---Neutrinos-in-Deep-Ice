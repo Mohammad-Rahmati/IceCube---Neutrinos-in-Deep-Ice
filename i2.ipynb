{
 "cells": [
  {
   "cell_type": "code",
   "execution_count": 1,
   "metadata": {},
   "outputs": [],
   "source": [
    "import warnings\n",
    "warnings.filterwarnings('ignore')\n",
    "import os\n",
    "os.environ['TF_CPP_MIN_LOG_LEVEL'] = '3'\n",
    "import numpy as np\n",
    "import matplotlib.pyplot as plt\n",
    "import pandas as pd\n",
    "import math\n",
    "from tqdm import tqdm\n",
    "import gc\n",
    "import tensorflow as tf\n",
    "from tensorflow.keras.models import Sequential\n",
    "from tensorflow.keras.layers import Dense, ConvLSTM3D, Bidirectional, Flatten, Dropout, BatchNormalization\n",
    "from tensorflow.keras.optimizers import Adam\n",
    "from tensorflow.keras.callbacks import EarlyStopping"
   ]
  },
  {
   "cell_type": "code",
   "execution_count": 2,
   "metadata": {},
   "outputs": [],
   "source": [
    "def coordinate_to_matrix(coordinates, grid_size = 25):\n",
    "    grid_size = grid_size - 1\n",
    "    matrix = np.zeros((grid_size + 1 , grid_size + 1, grid_size + 1))\n",
    "    for x, y, z, charge in coordinates:\n",
    "        x_indx = int(x * grid_size)\n",
    "        y_indx = int(y * grid_size)\n",
    "        z_indx = int(z * grid_size)\n",
    "        matrix[x_indx][y_indx][z_indx] = matrix[x_indx][y_indx][z_indx] + charge\n",
    "    return matrix\n",
    "\n",
    "def angular_dist_score(az_true, zen_true, az_pred, zen_pred):\n",
    "    sa1 = np.sin(az_true)\n",
    "    ca1 = np.cos(az_true)\n",
    "    sz1 = np.sin(zen_true)\n",
    "    cz1 = np.cos(zen_true)\n",
    "    \n",
    "    sa2 = np.sin(az_pred)\n",
    "    ca2 = np.cos(az_pred)\n",
    "    sz2 = np.sin(zen_pred)\n",
    "    cz2 = np.cos(zen_pred)\n",
    "    scalar_prod = sz1*sz2*(ca1*ca2 + sa1*sa2) + (cz1*cz2)\n",
    "    scalar_prod =  np.clip(scalar_prod, -1, 1)\n",
    "    return np.average(np.abs(np.arccos(scalar_prod)))\n",
    "\n",
    "def convert_to_cartesian(azimuth, zenith):\n",
    "    x = np.sin(zenith) * np.cos(azimuth)\n",
    "    y = np.sin(zenith) * np.sin(azimuth)\n",
    "    z = np.cos(zenith)\n",
    "    return x, y, z\n",
    "\n",
    "def convert_to_polar(x, y, z):\n",
    "    r = math.sqrt(x * x + y * y + z * z)\n",
    "    c = -1 if y < 0 else 1\n",
    "    azimuth = math.acos(x / math.sqrt(x * x + y * y)) * c\n",
    "    zenith = math.acos(z / r)\n",
    "    return azimuth, zenith\n",
    "\n",
    "def adjust_polar(azimuth, zenith):\n",
    "    if azimuth < 0:\n",
    "        azimuth += math.pi * 2\n",
    "    elif zenith < 0:\n",
    "        zenith += math.pi\n",
    "    return azimuth, zenith"
   ]
  },
  {
   "cell_type": "code",
   "execution_count": 3,
   "metadata": {},
   "outputs": [],
   "source": [
    "sensors_df = pd.read_csv('./data/sensor_geometry.csv')\n",
    "x_min, x_max, y_min, y_max, z_min, z_max = sensors_df.x.min(), sensors_df.x.max(), sensors_df.y.min(), sensors_df.y.max(), sensors_df.z.min(), sensors_df.z.max()\n",
    "sensors_df['x'] = (sensors_df['x'] - x_min) / (x_max - x_min)\n",
    "sensors_df['y'] = (sensors_df['y'] - y_min) / (y_max - y_min)\n",
    "sensors_df['z'] = (sensors_df['z'] - z_min) / (z_max - z_min)\n",
    "\n",
    "meta_df = pd.read_parquet('./data/train_meta.parquet')\n",
    "meta_df[['batch_id', 'event_id', 'first_pulse_index', 'last_pulse_index']] = meta_df[['batch_id', 'event_id', 'first_pulse_index', 'last_pulse_index']].astype(int)\n",
    "meta_df[['azimuth', 'zenith']] = meta_df[['azimuth', 'zenith']].astype(np.float32)\n",
    "\n",
    "df = pd.read_parquet('./data/train/batch_1.parquet')\n",
    "df['auxiliary'] = df['auxiliary'].astype(int)"
   ]
  },
  {
   "cell_type": "code",
   "execution_count": 4,
   "metadata": {},
   "outputs": [
    {
     "name": "stderr",
     "output_type": "stream",
     "text": [
      "100%|██████████| 200000/200000 [21:12<00:00, 157.12it/s]\n"
     ]
    },
    {
     "data": {
      "text/plain": [
       "((200000, 5, 2, 10, 10, 10), (200000, 3))"
      ]
     },
     "execution_count": 4,
     "metadata": {},
     "output_type": "execute_result"
    }
   ],
   "source": [
    "sample_size = 200000\n",
    "grid_size = 10\n",
    "random_state = 42\n",
    "time_upper = [0.2, 0.4, 0.6, 0.8, 1.0]\n",
    "time_lower = [0.0, 0.2, 0.4, 0.6, 0.8]\n",
    "matrix_main = []\n",
    "target = []\n",
    "\n",
    "time_steps = len(time_upper)\n",
    "meta_batch_df = meta_df[meta_df.batch_id == 1]\n",
    "target_coordinates_df = meta_batch_df[['azimuth', 'zenith']].apply(lambda x: convert_to_cartesian(x[0], x[1]), axis=1, result_type='expand')\n",
    "meta_batch_df = pd.concat([meta_batch_df, target_coordinates_df], axis=1)\n",
    "meta_batch_df.rename(columns={0: 'x_target', 1: 'y_target', 2: 'z_target'}, inplace=True)\n",
    "meta_batch_df = meta_batch_df.sample(meta_batch_df.shape[0], random_state=random_state)\n",
    "meta_batch_df.reset_index(drop=True, inplace=True)\n",
    "for indx in tqdm(range(0, sample_size, 1)):\n",
    "    _, event_id, first_pulse_index, last_pulse_index, azimuth, zenith, target_x, target_y, target_z = meta_batch_df.iloc[indx].values\n",
    "    df_study = df.iloc[int(first_pulse_index):int(last_pulse_index)].merge(sensors_df, on='sensor_id')\n",
    "    minimum_time = df_study['time'].min()\n",
    "    period = df_study['time'].max() - minimum_time\n",
    "    df_study['time'] = (df_study['time'] - minimum_time) / (period)\n",
    "    df_study_aux_t = df_study[df_study.auxiliary == 1]\n",
    "    df_study_aux_f = df_study[df_study.auxiliary == 0]\n",
    "    \n",
    "    matrix_final = []\n",
    "    for time_index in range(time_steps):\n",
    "        coordinates_t = df_study_aux_t[(df_study_aux_t.time <= time_upper[time_index]) & (df_study_aux_t.time >= time_lower[time_index])][['x', 'y', 'z', 'charge']].values\n",
    "        matrix_t = coordinate_to_matrix(coordinates_t, grid_size = grid_size)\n",
    "        \n",
    "        matrix_t = matrix_t.astype(np.float16)\n",
    "        coordinates_f = df_study_aux_f[(df_study_aux_f.time <= time_upper[time_index]) & (df_study_aux_f.time >= time_lower[time_index])][['x', 'y', 'z', 'charge']].values\n",
    "        matrix_f = coordinate_to_matrix(coordinates_f, grid_size = grid_size)\n",
    "        \n",
    "        matrix_f = matrix_f.astype(np.float16)\n",
    "        matrix_final.append([matrix_t, matrix_f])\n",
    "    \n",
    "    matrix_main.append(matrix_final)\n",
    "    target.append([target_x, target_y, target_z])\n",
    "\n",
    "matrix_main = np.array(matrix_main)\n",
    "target = np.array(target)\n",
    "\n",
    "matrix_main.shape, target.shape"
   ]
  },
  {
   "cell_type": "code",
   "execution_count": null,
   "metadata": {},
   "outputs": [],
   "source": [
    "for i  in range(0, 10, 1):\n",
    "    fig = plt.figure(figsize=(20, 10))\n",
    "    for j in range(time_steps):\n",
    "        ax = fig.add_subplot(1, time_steps + 1, j+1, projection='3d')\n",
    "        ax.voxels(matrix_main[i][j][0], edgecolor='k', alpha=0.5, color='r')\n",
    "        ax.voxels(matrix_main[i][j][1], edgecolor='k', alpha=1, color='b')\n",
    "\n",
    "    ax = fig.add_subplot(1, time_steps + 1, j+2, projection='3d')\n",
    "    ax.quiver(0, 0, 0, target[i,0], target[i,1], target[i,2], length=0.03, color = 'black')\n",
    "    plt.show()"
   ]
  },
  {
   "cell_type": "code",
   "execution_count": 5,
   "metadata": {},
   "outputs": [
    {
     "data": {
      "text/plain": [
       "((180000, 5, 2, 10, 10, 10),\n",
       " (180000, 3),\n",
       " (10000, 5, 2, 10, 10, 10),\n",
       " (10000, 3),\n",
       " (10000, 5, 2, 10, 10, 10),\n",
       " (10000, 3))"
      ]
     },
     "execution_count": 5,
     "metadata": {},
     "output_type": "execute_result"
    }
   ],
   "source": [
    "train_p, validation_p = 0.9, 0.05\n",
    "\n",
    "matrix_train = matrix_main[:int(sample_size * train_p), :, :, :, :, :]\n",
    "target_train = target[:int(sample_size * train_p), :]\n",
    "\n",
    "matrix_validation = matrix_main[int(sample_size * train_p):int(sample_size * (train_p + validation_p)), :, :, :, :, :]\n",
    "target_validation = target[int(sample_size * train_p):int(sample_size * (train_p + validation_p)), :]\n",
    "\n",
    "matrix_test = matrix_main[int(sample_size * (train_p + validation_p)):, :, :, :, :, :]\n",
    "target_test = target[int(sample_size * (train_p + validation_p)):, :]\n",
    "\n",
    "matrix_train.shape, target_train.shape, matrix_validation.shape, target_validation.shape, matrix_test.shape, target_test.shape"
   ]
  },
  {
   "cell_type": "code",
   "execution_count": 6,
   "metadata": {},
   "outputs": [
    {
     "data": {
      "text/plain": [
       "0"
      ]
     },
     "execution_count": 6,
     "metadata": {},
     "output_type": "execute_result"
    }
   ],
   "source": [
    "del matrix_main, target, meta_batch_df, target_coordinates_df, df_study, df_study_aux_t, df_study_aux_f, coordinates_t, matrix_t, coordinates_f, matrix_f, matrix_final\n",
    "del azimuth, zenith, target_x, target_y, target_z, minimum_time, period, time_upper, time_lower, indx, event_id, first_pulse_index, last_pulse_index\n",
    "del df, meta_df, sensors_df, sample_size, x_max, x_min, y_max, y_min, z_max, z_min, train_p, validation_p, time_index\n",
    "\n",
    "gc.collect()"
   ]
  },
  {
   "cell_type": "code",
   "execution_count": 7,
   "metadata": {},
   "outputs": [],
   "source": [
    "def create_model():\n",
    "    model = Sequential()\n",
    "    model.add(\n",
    "        ConvLSTM3D(\n",
    "            filters=16,\n",
    "            kernel_size=(1, 1, 1),\n",
    "            data_format=\"channels_first\",\n",
    "            input_shape=(time_steps, 2, grid_size, grid_size, grid_size),\n",
    "            padding=\"same\",\n",
    "            dropout=0.2,\n",
    "            return_sequences=True,\n",
    "\n",
    "        )\n",
    "    )\n",
    "\n",
    "    model.add(BatchNormalization())\n",
    "    model.add(Flatten())\n",
    "    model.add(Dropout(0.1))\n",
    "    model.add(Dense(128, activation=\"relu\"))\n",
    "    model.add(Dense(64, activation=\"relu\"))\n",
    "    model.add(Dense(3, activation=\"linear\"))\n",
    "\n",
    "    return model\n",
    "\n",
    "\n",
    "model = create_model()\n"
   ]
  },
  {
   "cell_type": "code",
   "execution_count": 8,
   "metadata": {},
   "outputs": [
    {
     "name": "stdout",
     "output_type": "stream",
     "text": [
      "Epoch 1/500\n",
      "1407/1407 [==============================] - 558s 395ms/step - loss: 1.5337 - val_loss: 1.5404\n",
      "Epoch 2/500\n",
      "1407/1407 [==============================] - 561s 399ms/step - loss: 1.5332 - val_loss: 1.5419\n",
      "Epoch 3/500\n",
      "1407/1407 [==============================] - 579s 411ms/step - loss: 1.5332 - val_loss: 1.5406\n",
      "Epoch 4/500\n",
      "1407/1407 [==============================] - 566s 402ms/step - loss: 1.5332 - val_loss: 1.5405\n",
      "Epoch 5/500\n",
      "1407/1407 [==============================] - 556s 395ms/step - loss: 1.5331 - val_loss: 1.5409\n",
      "Epoch 6/500\n",
      "1407/1407 [==============================] - 556s 395ms/step - loss: 1.5331 - val_loss: 1.5410\n",
      "Epoch 7/500\n",
      "1407/1407 [==============================] - 556s 395ms/step - loss: 1.5331 - val_loss: 1.5408\n",
      "Epoch 8/500\n",
      "1407/1407 [==============================] - 556s 395ms/step - loss: 1.5331 - val_loss: 1.5407\n",
      "Epoch 9/500\n",
      "1407/1407 [==============================] - 556s 395ms/step - loss: 1.5331 - val_loss: 1.5406\n",
      "Epoch 10/500\n",
      "1407/1407 [==============================] - 556s 395ms/step - loss: 1.5331 - val_loss: 1.5405\n",
      "Epoch 11/500\n",
      "1407/1407 [==============================] - ETA: 0s - loss: 1.5331Restoring model weights from the end of the best epoch: 1.\n",
      "1407/1407 [==============================] - 556s 395ms/step - loss: 1.5331 - val_loss: 1.5405\n",
      "Epoch 11: early stopping\n"
     ]
    },
    {
     "data": {
      "text/plain": [
       "<keras.callbacks.History at 0x7fd8be2acca0>"
      ]
     },
     "execution_count": 8,
     "metadata": {},
     "output_type": "execute_result"
    }
   ],
   "source": [
    "tf.keras.backend.clear_session()\n",
    "def angular_distance(y_true, y_pred):\n",
    "    y_true = tf.cast(y_true, tf.float32)\n",
    "    y_pred = tf.cast(y_pred, tf.float32)\n",
    "    y_true = tf.math.l2_normalize(y_true, axis=1)\n",
    "    y_pred = tf.math.l2_normalize(y_pred, axis=1)\n",
    "    return tf.math.acos(tf.reduce_sum(tf.multiply(y_true, y_pred), axis=1))\n",
    "\n",
    "model.compile(loss=angular_distance, optimizer='adam')\n",
    "early_stoping = EarlyStopping(monitor='val_loss', patience=10, verbose=1, restore_best_weights=True)\n",
    "model.fit(matrix_train, target_train, epochs=500, batch_size=128, validation_data=(matrix_validation, target_validation), callbacks=[early_stoping])"
   ]
  },
  {
   "cell_type": "code",
   "execution_count": 9,
   "metadata": {},
   "outputs": [
    {
     "data": {
      "image/png": "[encoded data removed]",
      "text/plain": [
       "<Figure size 640x480 with 1 Axes>"
      ]
     },
     "metadata": {},
     "output_type": "display_data"
    }
   ],
   "source": [
    "plt.plot(model.history.history['loss'][3:], label='train')\n",
    "plt.plot(model.history.history['val_loss'][3:], label='validation')\n",
    "plt.legend()\n",
    "plt.show()"
   ]
  },
  {
   "cell_type": "code",
   "execution_count": 10,
   "metadata": {},
   "outputs": [
    {
     "name": "stdout",
     "output_type": "stream",
     "text": [
      "313/313 [==============================] - 7s 22ms/step\n"
     ]
    },
    {
     "data": {
      "text/plain": [
       "1.5373053358410804"
      ]
     },
     "execution_count": 10,
     "metadata": {},
     "output_type": "execute_result"
    }
   ],
   "source": [
    "pred = model.predict(matrix_test)\n",
    "pred_polar = np.array([convert_to_polar(x, y, z) for x, y, z in pred])\n",
    "target_test_polar = np.array([convert_to_polar(x, y, z) for x, y, z in target_test])\n",
    "\n",
    "az_true, zen_true = target_test_polar[:, 0], target_test_polar[:, 1]\n",
    "az_pred, zen_pred = pred_polar[:, 0], pred_polar[:, 1]\n",
    "\n",
    "angular_dist_score(az_true, zen_true, az_pred, zen_pred)"
   ]
  },
  {
   "cell_type": "code",
   "execution_count": null,
   "metadata": {},
   "outputs": [],
   "source": []
  }
 ],
 "metadata": {
  "kernelspec": {
   "display_name": "kaggle",
   "language": "python",
   "name": "python3"
  },
  "language_info": {
   "codemirror_mode": {
    "name": "ipython",
    "version": 3
   },
   "file_extension": ".py",
   "mimetype": "text/x-python",
   "name": "python",
   "nbconvert_exporter": "python",
   "pygments_lexer": "ipython3",
   "version": "3.10.9"
  },
  "orig_nbformat": 4,
  "vscode": {
   "interpreter": {
    "hash": "a957104cce6d637cb06943094dd280537cd25fba97e1d22613f99f0f6401d0e0"
   }
  }
 },
 "nbformat": 4,
 "nbformat_minor": 2
}
