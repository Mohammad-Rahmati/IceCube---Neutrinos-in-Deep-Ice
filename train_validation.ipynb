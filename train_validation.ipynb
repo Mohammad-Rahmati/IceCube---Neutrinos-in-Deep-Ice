{
 "cells": [
  {
   "cell_type": "code",
   "execution_count": 1,
   "metadata": {},
   "outputs": [
    {
     "name": "stdout",
     "output_type": "stream",
     "text": [
      "\u001b[1;34mgraphnet\u001b[0m: \u001b[32mINFO    \u001b[0m 2023-03-05 10:22:54 - get_logger - Writing log to \u001b[1mlogs/graphnet_20230305-102254.log\u001b[0m\n",
      "\u001b[1;34mgraphnet\u001b[0m: \u001b[33mWARNING \u001b[0m 2023-03-05 10:22:54 - warn_once - `icecube` not available. Some functionality may be missing.\u001b[0m\n"
     ]
    }
   ],
   "source": [
    "from graphnet.data.sqlite.sqlite_utilities import create_table\n",
    "import pandas as pd\n",
    "import sqlite3\n",
    "from tqdm import tqdm\n",
    "import numpy as np\n",
    "from sklearn.model_selection import train_test_split"
   ]
  },
  {
   "cell_type": "code",
   "execution_count": 2,
   "metadata": {},
   "outputs": [],
   "source": [
    "def make_selection(save_path, df: pd.DataFrame, pulse_threshold: int = 200, indx = int) -> None:\n",
    "    n_events = np.arange(0, len(df),1)\n",
    "    train_selection, validate_selection = train_test_split(n_events, \n",
    "                                                                    shuffle=True, \n",
    "                                                                    random_state = 42, \n",
    "                                                                    test_size=0.01) \n",
    "    df['train'] = 0\n",
    "    df['validate'] = 0\n",
    "    \n",
    "    df['train'][train_selection] = 1\n",
    "    df['validate'][validate_selection] = 1\n",
    "    \n",
    "    assert len(train_selection) == sum(df['train'])\n",
    "    assert len(validate_selection) == sum(df['validate'])\n",
    "\n",
    "    df['train'][df['n_pulses']> pulse_threshold] = 0\n",
    "    df['validate'][df['n_pulses']> pulse_threshold] = 0\n",
    "    \n",
    "    for selection in ['train', 'validate']:\n",
    "        df.loc[df[selection] == 1, :].to_pickle(f'{save_path}/{selection}_selection_max_{pulse_threshold}_pulses_{indx}.pkl')\n",
    "        df.loc[df[selection] == 0, :].to_pickle(f'{save_path}/{selection}_selection_above_{pulse_threshold}_pulses_{indx}.pkl')\n",
    "\n",
    "    return\n",
    "\n",
    "def get_number_of_pulses(db: str, event_id: int, pulsemap: str) -> int:\n",
    "    with sqlite3.connect(db) as con:\n",
    "        query = f'select event_id from {pulsemap} where event_id = {event_id} limit 20000'\n",
    "        data = con.execute(query).fetchall()\n",
    "    return len(data)\n",
    "\n",
    "def count_pulses(database: str, save_path, pulsemap: str, indx: int) -> pd.DataFrame:\n",
    "    \"\"\" Will count the number of pulses in each event and return a single dataframe that contains counts for each event_id.\"\"\"\n",
    "    with sqlite3.connect(database) as con:\n",
    "        query = 'select event_id from meta_table'\n",
    "        events = pd.read_sql(query,con)\n",
    "    counts = {'event_id': [],\n",
    "              'n_pulses': []}\n",
    "    for event_id in tqdm(events['event_id']):\n",
    "        a = get_number_of_pulses(database, event_id, pulsemap)\n",
    "        counts['event_id'].append(event_id)\n",
    "        counts['n_pulses'].append(a)\n",
    "    df = pd.DataFrame(counts)\n",
    "    df.to_pickle(f'{save_path}/counts_{indx}.pkl')\n",
    "    return df\n"
   ]
  },
  {
   "cell_type": "code",
   "execution_count": 3,
   "metadata": {},
   "outputs": [
    {
     "name": "stderr",
     "output_type": "stream",
     "text": [
      "100%|██████████| 33000000/33000000 [1:02:37<00:00, 8783.35it/s] \n"
     ]
    }
   ],
   "source": [
    "for indx in [0]:\n",
    "    pulsemap = 'pulse_table'\n",
    "    database = f'data/extra_big_batch_{indx}.db'\n",
    "    save_path = './data/'\n",
    "\n",
    "    df = count_pulses(database, save_path, pulsemap, indx = indx)\n",
    "    make_selection(save_path, df = df, pulse_threshold =  200, indx = indx)"
   ]
  },
  {
   "cell_type": "code",
   "execution_count": null,
   "metadata": {},
   "outputs": [],
   "source": [
    "with sqlite3.connect(database) as con:\n",
    "    query = f'select event_id from meta_table'\n",
    "    data = con.execute(query).fetchall()"
   ]
  },
  {
   "cell_type": "code",
   "execution_count": null,
   "metadata": {},
   "outputs": [],
   "source": [
    "big_e_list = pd.DataFrame(data, columns= ['event_id']).event_id.to_list()"
   ]
  },
  {
   "cell_type": "code",
   "execution_count": null,
   "metadata": {},
   "outputs": [],
   "source": [
    "train_e_list = pd.read_pickle(f'{save_path}/train_selection_max_200_pulses_{indx}.pkl').event_id.to_list()\n",
    "validate_e_list = pd.read_pickle(f'{save_path}/validate_selection_max_200_pulses_{indx}.pkl').event_id.to_list()"
   ]
  },
  {
   "cell_type": "code",
   "execution_count": null,
   "metadata": {},
   "outputs": [],
   "source": []
  }
 ],
 "metadata": {
  "kernelspec": {
   "display_name": "graphnet",
   "language": "python",
   "name": "python3"
  },
  "language_info": {
   "codemirror_mode": {
    "name": "ipython",
    "version": 3
   },
   "file_extension": ".py",
   "mimetype": "text/x-python",
   "name": "python",
   "nbconvert_exporter": "python",
   "pygments_lexer": "ipython3",
   "version": "3.8.16"
  },
  "orig_nbformat": 4,
  "vscode": {
   "interpreter": {
    "hash": "6f831811ab5408f3cdb83b41500deeb387c9454d72d6267bf8a6ce625eb23eac"
   }
  }
 },
 "nbformat": 4,
 "nbformat_minor": 2
}
