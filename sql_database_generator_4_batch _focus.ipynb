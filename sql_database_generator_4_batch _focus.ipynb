{
 "cells": [
  {
   "cell_type": "code",
   "execution_count": 1,
   "metadata": {},
   "outputs": [
    {
     "name": "stdout",
     "output_type": "stream",
     "text": [
      "\u001b[1;34mgraphnet\u001b[0m: \u001b[32mINFO    \u001b[0m 2023-03-18 09:41:33 - get_logger - Writing log to \u001b[1mlogs/graphnet_20230318-094133.log\u001b[0m\n",
      "\u001b[1;34mgraphnet\u001b[0m: \u001b[33mWARNING \u001b[0m 2023-03-18 09:41:33 - warn_once - `icecube` not available. Some functionality may be missing.\u001b[0m\n"
     ]
    }
   ],
   "source": [
    "import os, sys\n",
    "from graphnet.data.sqlite.sqlite_utilities import create_table\n",
    "import pandas as pd\n",
    "from sklearn.model_selection import train_test_split\n",
    "import sqlite3\n",
    "import pyarrow.parquet as pq\n",
    "import sqlalchemy\n",
    "from tqdm import tqdm\n",
    "from typing import Any, Dict, List, Optional\n",
    "import numpy as np\n",
    "import matplotlib.pyplot as plt\n",
    "import pickle\n",
    "import gc"
   ]
  },
  {
   "cell_type": "code",
   "execution_count": 2,
   "metadata": {},
   "outputs": [],
   "source": [
    "input_data_folder = './data/train'\n",
    "meta_data_path = './data/train_meta.parquet'\n",
    "geometry_table = pd.read_csv('./data/sensor_geometry.csv')"
   ]
  },
  {
   "cell_type": "code",
   "execution_count": 3,
   "metadata": {},
   "outputs": [],
   "source": [
    "def load_input(batch_id: int, input_data_folder: str, event_ids: []) -> pd.DataFrame:\n",
    "        \n",
    "        detector_readings = pd.read_parquet(path = f'{input_data_folder}/batch_{batch_id}.parquet')\n",
    "        detector_readings = detector_readings.loc[detector_readings.index.isin(event_ids)]\n",
    "        sensor_positions = geometry_table.loc[detector_readings['sensor_id'], ['x', 'y', 'z']]\n",
    "        sensor_positions.index = detector_readings.index\n",
    "        detector_readings_copy = detector_readings.copy()\n",
    "        detector_readings_copy.loc[:, 'x'] = sensor_positions['x']\n",
    "        detector_readings_copy.loc[:, 'y'] = sensor_positions['y']\n",
    "        detector_readings_copy.loc[:, 'z'] = sensor_positions['z']\n",
    "        detector_readings = detector_readings_copy\n",
    "        del detector_readings_copy\n",
    "        detector_readings['auxiliary'].replace({True: 1, False: 0}, inplace=True)\n",
    "        \n",
    "        return detector_readings.reset_index()"
   ]
  },
  {
   "cell_type": "code",
   "execution_count": 4,
   "metadata": {},
   "outputs": [],
   "source": [
    "def add_to_table(database_path: str,\n",
    "                      df: pd.DataFrame,\n",
    "                      table_name:  str,\n",
    "                      is_primary_key: bool,\n",
    "                      engine: sqlalchemy.engine.base.Engine) -> None:\n",
    "                      \n",
    "    try:\n",
    "        create_table(   columns=  df.columns,\n",
    "                        database_path = database_path, \n",
    "                        table_name = table_name,\n",
    "                        integer_primary_key= is_primary_key,\n",
    "                        index_column = 'event_id')\n",
    "    except sqlite3.OperationalError as e:\n",
    "        if 'already exists' in str(e):\n",
    "            pass\n",
    "        else:\n",
    "            raise e\n",
    "   \n",
    "    df.to_sql(table_name, con=engine, index=False, if_exists=\"append\", chunksize = 200000)\n",
    "    engine.dispose()\n",
    "    return"
   ]
  },
  {
   "cell_type": "code",
   "execution_count": 7,
   "metadata": {},
   "outputs": [],
   "source": [
    "with open('focus_dict.pkl', 'rb') as f:\n",
    "    focus_dict = pickle.load(f)\n",
    "\n",
    "assert len(focus_dict['f0']) + len(focus_dict['f1']) + len(focus_dict['f2']) + len(focus_dict['f3']) == 131953924, \"focus_dict does not contain all events\""
   ]
  },
  {
   "cell_type": "code",
   "execution_count": 10,
   "metadata": {},
   "outputs": [],
   "source": [
    "idx = 0\n",
    "event_ids = focus_dict[f'f{idx}']\n",
    "database_path = f'./data/F{idx}/focus_batch_{idx}.db'\n",
    "engine = sqlalchemy.create_engine(\"sqlite:///\" + database_path)"
   ]
  },
  {
   "cell_type": "code",
   "execution_count": 11,
   "metadata": {},
   "outputs": [
    {
     "name": "stdout",
     "output_type": "stream",
     "text": [
      "1,"
     ]
    }
   ],
   "source": [
    "meta_data_iter = pq.ParquetFile(meta_data_path).iter_batches(batch_size = 200000)\n",
    "batch_id = 1\n",
    "meta_data_batch = next(meta_data_iter)\n",
    "        \n",
    "print(batch_id, end=',')\n",
    "if batch_id % 50 == 0:\n",
    "    print(batch_id, end=',')\n",
    "if True:\n",
    "    meta_data_batch  = meta_data_batch.to_pandas()\n",
    "    meta_data_batch.drop(columns=['first_pulse_index', 'last_pulse_index'], inplace=True)\n",
    "    meta_data_batch = meta_data_batch.loc[meta_data_batch['event_id'].isin(event_ids)].reset_index(drop=True)\n",
    "                    \n",
    "if meta_data_batch.shape[0] > 0:\n",
    "\n",
    "    pulses = load_input(batch_id = batch_id, input_data_folder= input_data_folder, event_ids = event_ids)       \n",
    "    pulses = pulses.groupby('event_id').head(500).reset_index(drop=True)\n",
    "\n",
    "    add_to_table(database_path = database_path,\n",
    "                                    df = meta_data_batch,\n",
    "                                    table_name='meta_table',\n",
    "                                    is_primary_key= True,\n",
    "                                    engine = engine)\n",
    "                                    \n",
    "    add_to_table(database_path = database_path,\n",
    "                                    df = pulses,\n",
    "                                    table_name='pulse_table',\n",
    "                                    is_primary_key= False,\n",
    "                                    engine = engine)\n"
   ]
  },
  {
   "cell_type": "code",
   "execution_count": 15,
   "metadata": {},
   "outputs": [
    {
     "data": {
      "text/html": [
       "<div>\n",
       "<style scoped>\n",
       "    .dataframe tbody tr th:only-of-type {\n",
       "        vertical-align: middle;\n",
       "    }\n",
       "\n",
       "    .dataframe tbody tr th {\n",
       "        vertical-align: top;\n",
       "    }\n",
       "\n",
       "    .dataframe thead th {\n",
       "        text-align: right;\n",
       "    }\n",
       "</style>\n",
       "<table border=\"1\" class=\"dataframe\">\n",
       "  <thead>\n",
       "    <tr style=\"text-align: right;\">\n",
       "      <th></th>\n",
       "      <th>batch_id</th>\n",
       "      <th>event_id</th>\n",
       "      <th>azimuth</th>\n",
       "      <th>zenith</th>\n",
       "    </tr>\n",
       "  </thead>\n",
       "  <tbody>\n",
       "    <tr>\n",
       "      <th>0</th>\n",
       "      <td>1</td>\n",
       "      <td>79</td>\n",
       "      <td>3.533397</td>\n",
       "      <td>2.479947</td>\n",
       "    </tr>\n",
       "    <tr>\n",
       "      <th>1</th>\n",
       "      <td>1</td>\n",
       "      <td>140</td>\n",
       "      <td>4.486290</td>\n",
       "      <td>1.655948</td>\n",
       "    </tr>\n",
       "    <tr>\n",
       "      <th>2</th>\n",
       "      <td>1</td>\n",
       "      <td>406</td>\n",
       "      <td>6.261226</td>\n",
       "      <td>0.910476</td>\n",
       "    </tr>\n",
       "    <tr>\n",
       "      <th>3</th>\n",
       "      <td>1</td>\n",
       "      <td>448</td>\n",
       "      <td>4.161056</td>\n",
       "      <td>1.427407</td>\n",
       "    </tr>\n",
       "    <tr>\n",
       "      <th>4</th>\n",
       "      <td>1</td>\n",
       "      <td>663</td>\n",
       "      <td>0.240543</td>\n",
       "      <td>2.739548</td>\n",
       "    </tr>\n",
       "    <tr>\n",
       "      <th>...</th>\n",
       "      <td>...</td>\n",
       "      <td>...</td>\n",
       "      <td>...</td>\n",
       "      <td>...</td>\n",
       "    </tr>\n",
       "    <tr>\n",
       "      <th>46474</th>\n",
       "      <td>1</td>\n",
       "      <td>3266035</td>\n",
       "      <td>5.798148</td>\n",
       "      <td>2.174658</td>\n",
       "    </tr>\n",
       "    <tr>\n",
       "      <th>46475</th>\n",
       "      <td>1</td>\n",
       "      <td>3266043</td>\n",
       "      <td>4.897595</td>\n",
       "      <td>1.746368</td>\n",
       "    </tr>\n",
       "    <tr>\n",
       "      <th>46476</th>\n",
       "      <td>1</td>\n",
       "      <td>3266078</td>\n",
       "      <td>5.004502</td>\n",
       "      <td>1.893823</td>\n",
       "    </tr>\n",
       "    <tr>\n",
       "      <th>46477</th>\n",
       "      <td>1</td>\n",
       "      <td>3266175</td>\n",
       "      <td>5.091808</td>\n",
       "      <td>2.732550</td>\n",
       "    </tr>\n",
       "    <tr>\n",
       "      <th>46478</th>\n",
       "      <td>1</td>\n",
       "      <td>3266196</td>\n",
       "      <td>3.017863</td>\n",
       "      <td>1.213878</td>\n",
       "    </tr>\n",
       "  </tbody>\n",
       "</table>\n",
       "<p>46479 rows × 4 columns</p>\n",
       "</div>"
      ],
      "text/plain": [
       "       batch_id  event_id   azimuth    zenith\n",
       "0             1        79  3.533397  2.479947\n",
       "1             1       140  4.486290  1.655948\n",
       "2             1       406  6.261226  0.910476\n",
       "3             1       448  4.161056  1.427407\n",
       "4             1       663  0.240543  2.739548\n",
       "...         ...       ...       ...       ...\n",
       "46474         1   3266035  5.798148  2.174658\n",
       "46475         1   3266043  4.897595  1.746368\n",
       "46476         1   3266078  5.004502  1.893823\n",
       "46477         1   3266175  5.091808  2.732550\n",
       "46478         1   3266196  3.017863  1.213878\n",
       "\n",
       "[46479 rows x 4 columns]"
      ]
     },
     "execution_count": 15,
     "metadata": {},
     "output_type": "execute_result"
    }
   ],
   "source": [
    "meta_data_batch"
   ]
  },
  {
   "cell_type": "code",
   "execution_count": 25,
   "metadata": {},
   "outputs": [],
   "source": [
    "first_event_id_meta = meta_data_batch.iloc[0].event_id\n",
    "last_event_id_meta = meta_data_batch.iloc[-1].event_id"
   ]
  },
  {
   "cell_type": "code",
   "execution_count": 26,
   "metadata": {},
   "outputs": [],
   "source": [
    "with sqlite3.connect(database_path) as con:\n",
    "        query = f'select event_id from meta_table where event_id in ({first_event_id_meta}, {last_event_id_meta})'\n",
    "        events_df = pd.read_sql(query,con) "
   ]
  },
  {
   "cell_type": "code",
   "execution_count": 27,
   "metadata": {},
   "outputs": [
    {
     "data": {
      "text/plain": [
       "2"
      ]
     },
     "execution_count": 27,
     "metadata": {},
     "output_type": "execute_result"
    }
   ],
   "source": [
    "events_df.shape[0]"
   ]
  },
  {
   "cell_type": "code",
   "execution_count": 29,
   "metadata": {},
   "outputs": [
    {
     "data": {
      "text/html": [
       "<div>\n",
       "<style scoped>\n",
       "    .dataframe tbody tr th:only-of-type {\n",
       "        vertical-align: middle;\n",
       "    }\n",
       "\n",
       "    .dataframe tbody tr th {\n",
       "        vertical-align: top;\n",
       "    }\n",
       "\n",
       "    .dataframe thead th {\n",
       "        text-align: right;\n",
       "    }\n",
       "</style>\n",
       "<table border=\"1\" class=\"dataframe\">\n",
       "  <thead>\n",
       "    <tr style=\"text-align: right;\">\n",
       "      <th></th>\n",
       "      <th>event_id</th>\n",
       "    </tr>\n",
       "  </thead>\n",
       "  <tbody>\n",
       "    <tr>\n",
       "      <th>0</th>\n",
       "      <td>79</td>\n",
       "    </tr>\n",
       "    <tr>\n",
       "      <th>1</th>\n",
       "      <td>79</td>\n",
       "    </tr>\n",
       "    <tr>\n",
       "      <th>2</th>\n",
       "      <td>79</td>\n",
       "    </tr>\n",
       "    <tr>\n",
       "      <th>3</th>\n",
       "      <td>79</td>\n",
       "    </tr>\n",
       "    <tr>\n",
       "      <th>4</th>\n",
       "      <td>79</td>\n",
       "    </tr>\n",
       "    <tr>\n",
       "      <th>...</th>\n",
       "      <td>...</td>\n",
       "    </tr>\n",
       "    <tr>\n",
       "      <th>447</th>\n",
       "      <td>3266196</td>\n",
       "    </tr>\n",
       "    <tr>\n",
       "      <th>448</th>\n",
       "      <td>3266196</td>\n",
       "    </tr>\n",
       "    <tr>\n",
       "      <th>449</th>\n",
       "      <td>3266196</td>\n",
       "    </tr>\n",
       "    <tr>\n",
       "      <th>450</th>\n",
       "      <td>3266196</td>\n",
       "    </tr>\n",
       "    <tr>\n",
       "      <th>451</th>\n",
       "      <td>3266196</td>\n",
       "    </tr>\n",
       "  </tbody>\n",
       "</table>\n",
       "<p>452 rows × 1 columns</p>\n",
       "</div>"
      ],
      "text/plain": [
       "     event_id\n",
       "0          79\n",
       "1          79\n",
       "2          79\n",
       "3          79\n",
       "4          79\n",
       "..        ...\n",
       "447   3266196\n",
       "448   3266196\n",
       "449   3266196\n",
       "450   3266196\n",
       "451   3266196\n",
       "\n",
       "[452 rows x 1 columns]"
      ]
     },
     "execution_count": 29,
     "metadata": {},
     "output_type": "execute_result"
    }
   ],
   "source": [
    "first_event_id_pulses = pulses.iloc[0].event_id\n",
    "last_event_id_pulses = pulses.iloc[-1].event_id\n",
    "\n",
    "with sqlite3.connect(database_path) as con:\n",
    "        query = f'select event_id from pulse_table where event_id in ({first_event_id_pulses}, {last_event_id_pulses})'\n",
    "        events_df = pd.read_sql(query,con)\n",
    "\n",
    "events_df.shape[0]"
   ]
  },
  {
   "cell_type": "code",
   "execution_count": 12,
   "metadata": {},
   "outputs": [],
   "source": [
    "def convert_to_sqlite(meta_data_path: str,\n",
    "                      database_path: str,\n",
    "                      input_data_folder: str,\n",
    "                      batch_size: int = 200000,\n",
    "                      batch_ids: list = [],\n",
    "                      event_ids: list = [],\n",
    "                      engine: sqlalchemy.engine.base.Engine = None\n",
    "                      ) -> None:\n",
    "    \n",
    "    meta_data_iter = pq.ParquetFile(meta_data_path).iter_batches(batch_size = batch_size)\n",
    "    batch_id = 1\n",
    "    for meta_data_batch in meta_data_iter:\n",
    "        while True:\n",
    "            try:\n",
    "                print(batch_id, end=',')\n",
    "                if batch_id % 50 == 0:\n",
    "                    print(batch_id, end=',')\n",
    "                if batch_id in batch_ids:\n",
    "                    meta_data_batch  = meta_data_batch.to_pandas()\n",
    "                    meta_data_batch.drop(columns=['first_pulse_index', 'last_pulse_index'], inplace=True)\n",
    "                    meta_data_batch = meta_data_batch.loc[meta_data_batch['event_id'].isin(event_ids)].reset_index(drop=True)\n",
    "                    \n",
    "                    if meta_data_batch.shape[0] > 0:\n",
    "\n",
    "                        pulses = load_input(batch_id = batch_id, input_data_folder= input_data_folder, event_ids = event_ids)       \n",
    "                        pulses = pulses.groupby('event_id').head(500).reset_index(drop=True)\n",
    "\n",
    "                        add_to_table(database_path = database_path,\n",
    "                                    df = meta_data_batch,\n",
    "                                    table_name='meta_table',\n",
    "                                    is_primary_key= True,\n",
    "                                    engine = engine)\n",
    "                                    \n",
    "                        add_to_table(database_path = database_path,\n",
    "                                    df = pulses,\n",
    "                                    table_name='pulse_table',\n",
    "                                    is_primary_key= False,\n",
    "                                    engine = engine)\n",
    "\n",
    "                        del meta_data_batch \n",
    "                        del pulses\n",
    "                batch_id +=1\n",
    "                gc.collect()\n",
    "                break\n",
    "\n",
    "            except Exception as e:\n",
    "                print(e)\n",
    "            \n",
    "    del meta_data_iter "
   ]
  },
  {
   "cell_type": "code",
   "execution_count": 10,
   "metadata": {},
   "outputs": [],
   "source": [
    "with open('focus_dict.pkl', 'rb') as f:\n",
    "    focus_dict = pickle.load(f)\n",
    "\n",
    "assert len(focus_dict['f0']) + len(focus_dict['f1']) + len(focus_dict['f2']) + len(focus_dict['f3']) == 131953924, \"focus_dict does not contain all events\""
   ]
  },
  {
   "cell_type": "code",
   "execution_count": 13,
   "metadata": {},
   "outputs": [
    {
     "name": "stdout",
     "output_type": "stream",
     "text": [
      "1,2,3,4,5,"
     ]
    },
    {
     "ename": "KeyboardInterrupt",
     "evalue": "",
     "output_type": "error",
     "traceback": [
      "\u001b[0;31m---------------------------------------------------------------------------\u001b[0m",
      "\u001b[0;31mKeyboardInterrupt\u001b[0m                         Traceback (most recent call last)",
      "Cell \u001b[0;32mIn[13], line 5\u001b[0m\n\u001b[1;32m      3\u001b[0m database_path \u001b[39m=\u001b[39m \u001b[39mf\u001b[39m\u001b[39m'\u001b[39m\u001b[39m./data/F\u001b[39m\u001b[39m{\u001b[39;00midx\u001b[39m}\u001b[39;00m\u001b[39m/focus_batch_\u001b[39m\u001b[39m{\u001b[39;00midx\u001b[39m}\u001b[39;00m\u001b[39m.db\u001b[39m\u001b[39m'\u001b[39m\n\u001b[1;32m      4\u001b[0m engine \u001b[39m=\u001b[39m sqlalchemy\u001b[39m.\u001b[39mcreate_engine(\u001b[39m\"\u001b[39m\u001b[39msqlite:///\u001b[39m\u001b[39m\"\u001b[39m \u001b[39m+\u001b[39m database_path)\n\u001b[0;32m----> 5\u001b[0m convert_to_sqlite(meta_data_path,\n\u001b[1;32m      6\u001b[0m                 database_path\u001b[39m=\u001b[39;49mdatabase_path,\n\u001b[1;32m      7\u001b[0m                 input_data_folder\u001b[39m=\u001b[39;49minput_data_folder,\n\u001b[1;32m      8\u001b[0m                 batch_size\u001b[39m=\u001b[39;49m\u001b[39m200000\u001b[39;49m,\n\u001b[1;32m      9\u001b[0m                 batch_ids\u001b[39m=\u001b[39;49m\u001b[39mlist\u001b[39;49m(\u001b[39mrange\u001b[39;49m(\u001b[39m1\u001b[39;49m,\u001b[39m651\u001b[39;49m,\u001b[39m1\u001b[39;49m)),\n\u001b[1;32m     10\u001b[0m                 event_ids\u001b[39m=\u001b[39;49mevent_id_list,\n\u001b[1;32m     11\u001b[0m                 engine\u001b[39m=\u001b[39;49mengine)\n",
      "Cell \u001b[0;32mIn[12], line 34\u001b[0m, in \u001b[0;36mconvert_to_sqlite\u001b[0;34m(meta_data_path, database_path, input_data_folder, batch_size, batch_ids, event_ids, engine)\u001b[0m\n\u001b[1;32m     26\u001b[0m pulses \u001b[39m=\u001b[39m pulses\u001b[39m.\u001b[39mgroupby(\u001b[39m'\u001b[39m\u001b[39mevent_id\u001b[39m\u001b[39m'\u001b[39m)\u001b[39m.\u001b[39mhead(\u001b[39m500\u001b[39m)\u001b[39m.\u001b[39mreset_index(drop\u001b[39m=\u001b[39m\u001b[39mTrue\u001b[39;00m)\n\u001b[1;32m     29\u001b[0m add_to_table(database_path \u001b[39m=\u001b[39m database_path,\n\u001b[1;32m     30\u001b[0m             df \u001b[39m=\u001b[39m meta_data_batch,\n\u001b[1;32m     31\u001b[0m             table_name\u001b[39m=\u001b[39m\u001b[39m'\u001b[39m\u001b[39mmeta_table\u001b[39m\u001b[39m'\u001b[39m,\n\u001b[1;32m     32\u001b[0m             is_primary_key\u001b[39m=\u001b[39m \u001b[39mTrue\u001b[39;00m,\n\u001b[1;32m     33\u001b[0m             engine \u001b[39m=\u001b[39m engine)\n\u001b[0;32m---> 34\u001b[0m add_to_table(database_path \u001b[39m=\u001b[39;49m database_path,\n\u001b[1;32m     35\u001b[0m             df \u001b[39m=\u001b[39;49m pulses,\n\u001b[1;32m     36\u001b[0m             table_name\u001b[39m=\u001b[39;49m\u001b[39m'\u001b[39;49m\u001b[39mpulse_table\u001b[39;49m\u001b[39m'\u001b[39;49m,\n\u001b[1;32m     37\u001b[0m             is_primary_key\u001b[39m=\u001b[39;49m \u001b[39mFalse\u001b[39;49;00m,\n\u001b[1;32m     38\u001b[0m             engine \u001b[39m=\u001b[39;49m engine)\n\u001b[1;32m     40\u001b[0m \u001b[39mdel\u001b[39;00m meta_data_batch \n\u001b[1;32m     41\u001b[0m \u001b[39mdel\u001b[39;00m pulses\n",
      "Cell \u001b[0;32mIn[5], line 19\u001b[0m, in \u001b[0;36madd_to_table\u001b[0;34m(database_path, df, table_name, is_primary_key, engine)\u001b[0m\n\u001b[1;32m     16\u001b[0m     \u001b[39melse\u001b[39;00m:\n\u001b[1;32m     17\u001b[0m         \u001b[39mraise\u001b[39;00m e\n\u001b[0;32m---> 19\u001b[0m df\u001b[39m.\u001b[39;49mto_sql(table_name, con\u001b[39m=\u001b[39;49mengine, index\u001b[39m=\u001b[39;49m\u001b[39mFalse\u001b[39;49;00m, if_exists\u001b[39m=\u001b[39;49m\u001b[39m\"\u001b[39;49m\u001b[39mappend\u001b[39;49m\u001b[39m\"\u001b[39;49m, chunksize \u001b[39m=\u001b[39;49m \u001b[39m200000\u001b[39;49m)\n\u001b[1;32m     20\u001b[0m engine\u001b[39m.\u001b[39mdispose()\n\u001b[1;32m     21\u001b[0m \u001b[39mreturn\u001b[39;00m\n",
      "File \u001b[0;32m~/miniconda3/envs/graphnet/lib/python3.8/site-packages/pandas/core/generic.py:2987\u001b[0m, in \u001b[0;36mNDFrame.to_sql\u001b[0;34m(self, name, con, schema, if_exists, index, index_label, chunksize, dtype, method)\u001b[0m\n\u001b[1;32m   2830\u001b[0m \u001b[39m\u001b[39m\u001b[39m\"\"\"\u001b[39;00m\n\u001b[1;32m   2831\u001b[0m \u001b[39mWrite records stored in a DataFrame to a SQL database.\u001b[39;00m\n\u001b[1;32m   2832\u001b[0m \n\u001b[0;32m   (...)\u001b[0m\n\u001b[1;32m   2983\u001b[0m \u001b[39m[(1,), (None,), (2,)]\u001b[39;00m\n\u001b[1;32m   2984\u001b[0m \u001b[39m\"\"\"\u001b[39;00m  \u001b[39m# noqa:E501\u001b[39;00m\n\u001b[1;32m   2985\u001b[0m \u001b[39mfrom\u001b[39;00m \u001b[39mpandas\u001b[39;00m\u001b[39m.\u001b[39;00m\u001b[39mio\u001b[39;00m \u001b[39mimport\u001b[39;00m sql\n\u001b[0;32m-> 2987\u001b[0m \u001b[39mreturn\u001b[39;00m sql\u001b[39m.\u001b[39;49mto_sql(\n\u001b[1;32m   2988\u001b[0m     \u001b[39mself\u001b[39;49m,\n\u001b[1;32m   2989\u001b[0m     name,\n\u001b[1;32m   2990\u001b[0m     con,\n\u001b[1;32m   2991\u001b[0m     schema\u001b[39m=\u001b[39;49mschema,\n\u001b[1;32m   2992\u001b[0m     if_exists\u001b[39m=\u001b[39;49mif_exists,\n\u001b[1;32m   2993\u001b[0m     index\u001b[39m=\u001b[39;49mindex,\n\u001b[1;32m   2994\u001b[0m     index_label\u001b[39m=\u001b[39;49mindex_label,\n\u001b[1;32m   2995\u001b[0m     chunksize\u001b[39m=\u001b[39;49mchunksize,\n\u001b[1;32m   2996\u001b[0m     dtype\u001b[39m=\u001b[39;49mdtype,\n\u001b[1;32m   2997\u001b[0m     method\u001b[39m=\u001b[39;49mmethod,\n\u001b[1;32m   2998\u001b[0m )\n",
      "File \u001b[0;32m~/miniconda3/envs/graphnet/lib/python3.8/site-packages/pandas/io/sql.py:695\u001b[0m, in \u001b[0;36mto_sql\u001b[0;34m(frame, name, con, schema, if_exists, index, index_label, chunksize, dtype, method, engine, **engine_kwargs)\u001b[0m\n\u001b[1;32m    690\u001b[0m \u001b[39melif\u001b[39;00m \u001b[39mnot\u001b[39;00m \u001b[39misinstance\u001b[39m(frame, DataFrame):\n\u001b[1;32m    691\u001b[0m     \u001b[39mraise\u001b[39;00m \u001b[39mNotImplementedError\u001b[39;00m(\n\u001b[1;32m    692\u001b[0m         \u001b[39m\"\u001b[39m\u001b[39m'\u001b[39m\u001b[39mframe\u001b[39m\u001b[39m'\u001b[39m\u001b[39m argument should be either a Series or a DataFrame\u001b[39m\u001b[39m\"\u001b[39m\n\u001b[1;32m    693\u001b[0m     )\n\u001b[0;32m--> 695\u001b[0m \u001b[39mreturn\u001b[39;00m pandas_sql\u001b[39m.\u001b[39;49mto_sql(\n\u001b[1;32m    696\u001b[0m     frame,\n\u001b[1;32m    697\u001b[0m     name,\n\u001b[1;32m    698\u001b[0m     if_exists\u001b[39m=\u001b[39;49mif_exists,\n\u001b[1;32m    699\u001b[0m     index\u001b[39m=\u001b[39;49mindex,\n\u001b[1;32m    700\u001b[0m     index_label\u001b[39m=\u001b[39;49mindex_label,\n\u001b[1;32m    701\u001b[0m     schema\u001b[39m=\u001b[39;49mschema,\n\u001b[1;32m    702\u001b[0m     chunksize\u001b[39m=\u001b[39;49mchunksize,\n\u001b[1;32m    703\u001b[0m     dtype\u001b[39m=\u001b[39;49mdtype,\n\u001b[1;32m    704\u001b[0m     method\u001b[39m=\u001b[39;49mmethod,\n\u001b[1;32m    705\u001b[0m     engine\u001b[39m=\u001b[39;49mengine,\n\u001b[1;32m    706\u001b[0m     \u001b[39m*\u001b[39;49m\u001b[39m*\u001b[39;49mengine_kwargs,\n\u001b[1;32m    707\u001b[0m )\n",
      "File \u001b[0;32m~/miniconda3/envs/graphnet/lib/python3.8/site-packages/pandas/io/sql.py:1738\u001b[0m, in \u001b[0;36mSQLDatabase.to_sql\u001b[0;34m(self, frame, name, if_exists, index, index_label, schema, chunksize, dtype, method, engine, **engine_kwargs)\u001b[0m\n\u001b[1;32m   1726\u001b[0m sql_engine \u001b[39m=\u001b[39m get_engine(engine)\n\u001b[1;32m   1728\u001b[0m table \u001b[39m=\u001b[39m \u001b[39mself\u001b[39m\u001b[39m.\u001b[39mprep_table(\n\u001b[1;32m   1729\u001b[0m     frame\u001b[39m=\u001b[39mframe,\n\u001b[1;32m   1730\u001b[0m     name\u001b[39m=\u001b[39mname,\n\u001b[0;32m   (...)\u001b[0m\n\u001b[1;32m   1735\u001b[0m     dtype\u001b[39m=\u001b[39mdtype,\n\u001b[1;32m   1736\u001b[0m )\n\u001b[0;32m-> 1738\u001b[0m total_inserted \u001b[39m=\u001b[39m sql_engine\u001b[39m.\u001b[39;49minsert_records(\n\u001b[1;32m   1739\u001b[0m     table\u001b[39m=\u001b[39;49mtable,\n\u001b[1;32m   1740\u001b[0m     con\u001b[39m=\u001b[39;49m\u001b[39mself\u001b[39;49m\u001b[39m.\u001b[39;49mconnectable,\n\u001b[1;32m   1741\u001b[0m     frame\u001b[39m=\u001b[39;49mframe,\n\u001b[1;32m   1742\u001b[0m     name\u001b[39m=\u001b[39;49mname,\n\u001b[1;32m   1743\u001b[0m     index\u001b[39m=\u001b[39;49mindex,\n\u001b[1;32m   1744\u001b[0m     schema\u001b[39m=\u001b[39;49mschema,\n\u001b[1;32m   1745\u001b[0m     chunksize\u001b[39m=\u001b[39;49mchunksize,\n\u001b[1;32m   1746\u001b[0m     method\u001b[39m=\u001b[39;49mmethod,\n\u001b[1;32m   1747\u001b[0m     \u001b[39m*\u001b[39;49m\u001b[39m*\u001b[39;49mengine_kwargs,\n\u001b[1;32m   1748\u001b[0m )\n\u001b[1;32m   1750\u001b[0m \u001b[39mself\u001b[39m\u001b[39m.\u001b[39mcheck_case_sensitive(name\u001b[39m=\u001b[39mname, schema\u001b[39m=\u001b[39mschema)\n\u001b[1;32m   1751\u001b[0m \u001b[39mreturn\u001b[39;00m total_inserted\n",
      "File \u001b[0;32m~/miniconda3/envs/graphnet/lib/python3.8/site-packages/pandas/io/sql.py:1325\u001b[0m, in \u001b[0;36mSQLAlchemyEngine.insert_records\u001b[0;34m(self, table, con, frame, name, index, schema, chunksize, method, **engine_kwargs)\u001b[0m\n\u001b[1;32m   1322\u001b[0m \u001b[39mfrom\u001b[39;00m \u001b[39msqlalchemy\u001b[39;00m \u001b[39mimport\u001b[39;00m exc\n\u001b[1;32m   1324\u001b[0m \u001b[39mtry\u001b[39;00m:\n\u001b[0;32m-> 1325\u001b[0m     \u001b[39mreturn\u001b[39;00m table\u001b[39m.\u001b[39;49minsert(chunksize\u001b[39m=\u001b[39;49mchunksize, method\u001b[39m=\u001b[39;49mmethod)\n\u001b[1;32m   1326\u001b[0m \u001b[39mexcept\u001b[39;00m exc\u001b[39m.\u001b[39mSQLAlchemyError \u001b[39mas\u001b[39;00m err:\n\u001b[1;32m   1327\u001b[0m     \u001b[39m# GH34431\u001b[39;00m\n\u001b[1;32m   1328\u001b[0m     \u001b[39m# https://stackoverflow.com/a/67358288/6067848\u001b[39;00m\n\u001b[1;32m   1329\u001b[0m     msg \u001b[39m=\u001b[39m \u001b[39mr\u001b[39m\u001b[39m\"\"\"\u001b[39m\u001b[39m(\u001b[39m\u001b[39m\\\u001b[39m\u001b[39m(1054, \u001b[39m\u001b[39m\"\u001b[39m\u001b[39mUnknown column \u001b[39m\u001b[39m'\u001b[39m\u001b[39minf(e0)?\u001b[39m\u001b[39m'\u001b[39m\u001b[39m in \u001b[39m\u001b[39m'\u001b[39m\u001b[39mfield list\u001b[39m\u001b[39m'\u001b[39m\u001b[39m\"\u001b[39m\u001b[39m\\\u001b[39m\u001b[39m))(?#\u001b[39m\n\u001b[1;32m   1330\u001b[0m \u001b[39m    )|inf can not be used with MySQL\u001b[39m\u001b[39m\"\"\"\u001b[39m\n",
      "File \u001b[0;32m~/miniconda3/envs/graphnet/lib/python3.8/site-packages/pandas/io/sql.py:924\u001b[0m, in \u001b[0;36mSQLTable.insert\u001b[0;34m(self, chunksize, method)\u001b[0m\n\u001b[1;32m    921\u001b[0m \u001b[39melse\u001b[39;00m:\n\u001b[1;32m    922\u001b[0m     \u001b[39mraise\u001b[39;00m \u001b[39mValueError\u001b[39;00m(\u001b[39mf\u001b[39m\u001b[39m\"\u001b[39m\u001b[39mInvalid parameter `method`: \u001b[39m\u001b[39m{\u001b[39;00mmethod\u001b[39m}\u001b[39;00m\u001b[39m\"\u001b[39m)\n\u001b[0;32m--> 924\u001b[0m keys, data_list \u001b[39m=\u001b[39m \u001b[39mself\u001b[39;49m\u001b[39m.\u001b[39;49minsert_data()\n\u001b[1;32m    926\u001b[0m nrows \u001b[39m=\u001b[39m \u001b[39mlen\u001b[39m(\u001b[39mself\u001b[39m\u001b[39m.\u001b[39mframe)\n\u001b[1;32m    928\u001b[0m \u001b[39mif\u001b[39;00m nrows \u001b[39m==\u001b[39m \u001b[39m0\u001b[39m:\n",
      "File \u001b[0;32m~/miniconda3/envs/graphnet/lib/python3.8/site-packages/pandas/io/sql.py:903\u001b[0m, in \u001b[0;36mSQLTable.insert_data\u001b[0;34m(self)\u001b[0m\n\u001b[1;32m    899\u001b[0m \u001b[39massert\u001b[39;00m \u001b[39misinstance\u001b[39m(d, np\u001b[39m.\u001b[39mndarray), \u001b[39mtype\u001b[39m(d)\n\u001b[1;32m    901\u001b[0m \u001b[39mif\u001b[39;00m ser\u001b[39m.\u001b[39m_can_hold_na:\n\u001b[1;32m    902\u001b[0m     \u001b[39m# Note: this will miss timedeltas since they are converted to int\u001b[39;00m\n\u001b[0;32m--> 903\u001b[0m     mask \u001b[39m=\u001b[39m isna(d)\n\u001b[1;32m    904\u001b[0m     d[mask] \u001b[39m=\u001b[39m \u001b[39mNone\u001b[39;00m\n\u001b[1;32m    906\u001b[0m data_list[i] \u001b[39m=\u001b[39m d\n",
      "File \u001b[0;32m~/miniconda3/envs/graphnet/lib/python3.8/site-packages/pandas/core/dtypes/missing.py:185\u001b[0m, in \u001b[0;36misna\u001b[0;34m(obj)\u001b[0m\n\u001b[1;32m    108\u001b[0m \u001b[39mdef\u001b[39;00m \u001b[39misna\u001b[39m(obj: \u001b[39mobject\u001b[39m) \u001b[39m-\u001b[39m\u001b[39m>\u001b[39m \u001b[39mbool\u001b[39m \u001b[39m|\u001b[39m npt\u001b[39m.\u001b[39mNDArray[np\u001b[39m.\u001b[39mbool_] \u001b[39m|\u001b[39m NDFrame:\n\u001b[1;32m    109\u001b[0m \u001b[39m    \u001b[39m\u001b[39m\"\"\"\u001b[39;00m\n\u001b[1;32m    110\u001b[0m \u001b[39m    Detect missing values for an array-like object.\u001b[39;00m\n\u001b[1;32m    111\u001b[0m \n\u001b[0;32m   (...)\u001b[0m\n\u001b[1;32m    183\u001b[0m \u001b[39m    Name: 1, dtype: bool\u001b[39;00m\n\u001b[1;32m    184\u001b[0m \u001b[39m    \"\"\"\u001b[39;00m\n\u001b[0;32m--> 185\u001b[0m     \u001b[39mreturn\u001b[39;00m _isna(obj)\n",
      "File \u001b[0;32m~/miniconda3/envs/graphnet/lib/python3.8/site-packages/pandas/core/dtypes/missing.py:214\u001b[0m, in \u001b[0;36m_isna\u001b[0;34m(obj, inf_as_na)\u001b[0m\n\u001b[1;32m    212\u001b[0m     \u001b[39mreturn\u001b[39;00m \u001b[39mFalse\u001b[39;00m\n\u001b[1;32m    213\u001b[0m \u001b[39melif\u001b[39;00m \u001b[39misinstance\u001b[39m(obj, (np\u001b[39m.\u001b[39mndarray, ABCExtensionArray)):\n\u001b[0;32m--> 214\u001b[0m     \u001b[39mreturn\u001b[39;00m _isna_array(obj, inf_as_na\u001b[39m=\u001b[39;49minf_as_na)\n\u001b[1;32m    215\u001b[0m \u001b[39melif\u001b[39;00m \u001b[39misinstance\u001b[39m(obj, ABCIndex):\n\u001b[1;32m    216\u001b[0m     \u001b[39m# Try to use cached isna, which also short-circuits for integer dtypes\u001b[39;00m\n\u001b[1;32m    217\u001b[0m     \u001b[39m#  and avoids materializing RangeIndex._values\u001b[39;00m\n\u001b[1;32m    218\u001b[0m     \u001b[39mif\u001b[39;00m \u001b[39mnot\u001b[39;00m obj\u001b[39m.\u001b[39m_can_hold_na:\n",
      "File \u001b[0;32m~/miniconda3/envs/graphnet/lib/python3.8/site-packages/pandas/core/dtypes/missing.py:296\u001b[0m, in \u001b[0;36m_isna_array\u001b[0;34m(values, inf_as_na)\u001b[0m\n\u001b[1;32m    294\u001b[0m         result \u001b[39m=\u001b[39m values\u001b[39m.\u001b[39misna()  \u001b[39m# type: ignore[assignment]\u001b[39;00m\n\u001b[1;32m    295\u001b[0m \u001b[39melif\u001b[39;00m is_string_or_object_np_dtype(values\u001b[39m.\u001b[39mdtype):\n\u001b[0;32m--> 296\u001b[0m     result \u001b[39m=\u001b[39m _isna_string_dtype(values, inf_as_na\u001b[39m=\u001b[39;49minf_as_na)\n\u001b[1;32m    297\u001b[0m \u001b[39melif\u001b[39;00m needs_i8_conversion(dtype):\n\u001b[1;32m    298\u001b[0m     \u001b[39m# this is the NaT pattern\u001b[39;00m\n\u001b[1;32m    299\u001b[0m     result \u001b[39m=\u001b[39m values\u001b[39m.\u001b[39mview(\u001b[39m\"\u001b[39m\u001b[39mi8\u001b[39m\u001b[39m\"\u001b[39m) \u001b[39m==\u001b[39m iNaT\n",
      "File \u001b[0;32m~/miniconda3/envs/graphnet/lib/python3.8/site-packages/pandas/core/dtypes/missing.py:318\u001b[0m, in \u001b[0;36m_isna_string_dtype\u001b[0;34m(values, inf_as_na)\u001b[0m\n\u001b[1;32m    315\u001b[0m \u001b[39melse\u001b[39;00m:\n\u001b[1;32m    317\u001b[0m     \u001b[39mif\u001b[39;00m values\u001b[39m.\u001b[39mndim \u001b[39m==\u001b[39m \u001b[39m1\u001b[39m:\n\u001b[0;32m--> 318\u001b[0m         result \u001b[39m=\u001b[39m libmissing\u001b[39m.\u001b[39;49misnaobj(values, inf_as_na\u001b[39m=\u001b[39;49minf_as_na)\n\u001b[1;32m    319\u001b[0m     \u001b[39melif\u001b[39;00m values\u001b[39m.\u001b[39mndim \u001b[39m==\u001b[39m \u001b[39m2\u001b[39m:\n\u001b[1;32m    320\u001b[0m         result \u001b[39m=\u001b[39m libmissing\u001b[39m.\u001b[39misnaobj2d(values, inf_as_na\u001b[39m=\u001b[39minf_as_na)\n",
      "\u001b[0;31mKeyboardInterrupt\u001b[0m: "
     ]
    }
   ],
   "source": [
    "idx = 0\n",
    "event_id_list = focus_dict[f'f{idx}']\n",
    "database_path = f'./data/F{idx}/focus_batch_{idx}.db'\n",
    "engine = sqlalchemy.create_engine(\"sqlite:///\" + database_path)\n",
    "convert_to_sqlite(meta_data_path,\n",
    "                database_path=database_path,\n",
    "                input_data_folder=input_data_folder,\n",
    "                batch_size=200000,\n",
    "                batch_ids=list(range(1,651,1)),\n",
    "                event_ids=event_id_list,\n",
    "                engine=engine)\n"
   ]
  },
  {
   "cell_type": "code",
   "execution_count": null,
   "metadata": {},
   "outputs": [],
   "source": [
    "with sqlite3.connect(database_path) as con:\n",
    "        query = 'select event_id from meta_table'\n",
    "        events_df = pd.read_sql(query,con) \n",
    "\n",
    "train_selection, validate_selection = train_test_split(np.arange(0, events_df.shape[0], 1), \n",
    "                                                        shuffle=True, \n",
    "                                                        random_state = 42, \n",
    "                                                        test_size=0.01)\n",
    "\n",
    "train_selection_events = events_df[events_df.index.isin(train_selection)]['event_id'].to_list()\n",
    "validate_selection_events = events_df[events_df.index.isin(validate_selection)]['event_id'].to_list()\n",
    "event_dict = {'train': train_selection_events, 'validate': validate_selection_events}\n",
    "with open(f'data/F{idx}/event_dict.pkl', 'wb') as f:\n",
    "    pickle.dump(event_dict, f)"
   ]
  },
  {
   "cell_type": "code",
   "execution_count": null,
   "metadata": {},
   "outputs": [],
   "source": []
  }
 ],
 "metadata": {
  "kernelspec": {
   "display_name": "graphnet",
   "language": "python",
   "name": "python3"
  },
  "language_info": {
   "codemirror_mode": {
    "name": "ipython",
    "version": 3
   },
   "file_extension": ".py",
   "mimetype": "text/x-python",
   "name": "python",
   "nbconvert_exporter": "python",
   "pygments_lexer": "ipython3",
   "version": "3.8.16"
  },
  "orig_nbformat": 4,
  "vscode": {
   "interpreter": {
    "hash": "6f831811ab5408f3cdb83b41500deeb387c9454d72d6267bf8a6ce625eb23eac"
   }
  }
 },
 "nbformat": 4,
 "nbformat_minor": 2
}
